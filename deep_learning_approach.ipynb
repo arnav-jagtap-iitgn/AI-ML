{
 "cells": [
  {
   "cell_type": "code",
   "execution_count": 17,
   "metadata": {},
   "outputs": [],
   "source": [
    "import numpy as np\n",
    "import pandas as pd"
   ]
  },
  {
   "cell_type": "markdown",
   "metadata": {},
   "source": [
    "### 1. Loading raw data"
   ]
  },
  {
   "cell_type": "code",
   "execution_count": 29,
   "metadata": {},
   "outputs": [
    {
     "name": "stdout",
     "output_type": "stream",
     "text": [
      "(7352, 128)\n",
      "(7352, 128)\n",
      "(7352, 128)\n",
      "(7352, 128, 3)\n",
      "(7352,)\n",
      "(2947, 128)\n",
      "(2947, 128, 3)\n",
      "(2947, 128)\n"
     ]
    }
   ],
   "source": [
    "x_body_acc = np.loadtxt(\"C:/AI/Nipun_sir_selection_task/human+activity+recognition+using+smartphones/UCI HAR Dataset/UCI HAR Dataset/train/Inertial Signals/body_acc_x_train.txt\")\n",
    "print(x_body_acc.shape)\n",
    "y_body_acc = np.loadtxt(\"C:/AI/Nipun_sir_selection_task/human+activity+recognition+using+smartphones/UCI HAR Dataset/UCI HAR Dataset/train/Inertial Signals/body_acc_y_train.txt\")\n",
    "print(y_body_acc.shape)\n",
    "z_body_acc = np.loadtxt(\"C:/AI/Nipun_sir_selection_task/human+activity+recognition+using+smartphones/UCI HAR Dataset/UCI HAR Dataset/train/Inertial Signals/body_acc_z_train.txt\")\n",
    "print(z_body_acc.shape)\n",
    "\n",
    "xyz_train = np.stack([x_body_acc, y_body_acc, z_body_acc],axis=-1)\n",
    "print(xyz_train.shape)\n",
    "\n",
    "activity_train = np.loadtxt(\"C:/AI/Nipun_sir_selection_task/human+activity+recognition+using+smartphones/UCI HAR Dataset/UCI HAR Dataset/train/y_train.txt\")\n",
    "activity_train -=1\n",
    "print(activity_train.shape)\n",
    "\n",
    "\n",
    "x_test = np.loadtxt(\"C:/AI/Nipun_sir_selection_task/human+activity+recognition+using+smartphones/UCI HAR Dataset/UCI HAR Dataset/test/Inertial Signals/body_acc_x_test.txt\")\n",
    "print(x_test.shape)\n",
    "y_test = np.loadtxt(\"C:/AI/Nipun_sir_selection_task/human+activity+recognition+using+smartphones/UCI HAR Dataset/UCI HAR Dataset/test/Inertial Signals/body_acc_y_test.txt\")\n",
    "z_test = np.loadtxt(\"C:/AI/Nipun_sir_selection_task/human+activity+recognition+using+smartphones/UCI HAR Dataset/UCI HAR Dataset/test/Inertial Signals/body_acc_z_test.txt\")\n",
    "xyz_test = np.stack([x_test, y_test, z_test],axis=-1)\n",
    "print(xyz_test.shape)\n",
    "activity_test = np.loadtxt(\"C:/AI/Nipun_sir_selection_task/human+activity+recognition+using+smartphones/UCI HAR Dataset/UCI HAR Dataset/test/y_test.txt\")\n",
    "print(y_test.shape)\n",
    "activity_test -=1\n"
   ]
  },
  {
   "cell_type": "markdown",
   "metadata": {},
   "source": [
    "### 2. Normalisation of raw data"
   ]
  },
  {
   "cell_type": "code",
   "execution_count": 30,
   "metadata": {},
   "outputs": [
    {
     "name": "stdout",
     "output_type": "stream",
     "text": [
      "(7352, 128, 3)\n"
     ]
    }
   ],
   "source": [
    "\n",
    "def min_max_normalisation(x):\n",
    "    min_x = np.min(x, keepdims=True)\n",
    "    max_x = np.max(x, keepdims=True)\n",
    "    return (x - min_x) / (max_x - min_x)\n",
    "\n",
    "x_body_acc = min_max_normalisation(x_body_acc)\n",
    "y_body_acc = min_max_normalisation(y_body_acc)\n",
    "z_body_acc = min_max_normalisation(z_body_acc)\n",
    "xyz_train = np.stack([x_body_acc, y_body_acc, z_body_acc],axis=-1)\n",
    "print(xyz_train.shape)"
   ]
  },
  {
   "cell_type": "code",
   "execution_count": 38,
   "metadata": {},
   "outputs": [
    {
     "name": "stdout",
     "output_type": "stream",
     "text": [
      "Epoch 1/10\n"
     ]
    },
    {
     "name": "stderr",
     "output_type": "stream",
     "text": [
      "c:\\Users\\Arnav\\AppData\\Local\\Programs\\Python\\Python311\\Lib\\site-packages\\keras\\src\\layers\\core\\wrapper.py:27: UserWarning: Do not pass an `input_shape`/`input_dim` argument to a layer. When using Sequential models, prefer using an `Input(shape)` object as the first layer in the model instead.\n",
      "  super().__init__(**kwargs)\n"
     ]
    },
    {
     "name": "stdout",
     "output_type": "stream",
     "text": [
      "\u001b[1m230/230\u001b[0m \u001b[32m━━━━━━━━━━━━━━━━━━━━\u001b[0m\u001b[37m\u001b[0m \u001b[1m63s\u001b[0m 139ms/step - accuracy: 0.1700 - loss: 1.7894 - val_accuracy: 0.2531 - val_loss: 1.7723\n",
      "Epoch 2/10\n",
      "\u001b[1m230/230\u001b[0m \u001b[32m━━━━━━━━━━━━━━━━━━━━\u001b[0m\u001b[37m\u001b[0m \u001b[1m26s\u001b[0m 113ms/step - accuracy: 0.2254 - loss: 1.7438 - val_accuracy: 0.1822 - val_loss: 1.7859\n",
      "Epoch 3/10\n",
      "\u001b[1m230/230\u001b[0m \u001b[32m━━━━━━━━━━━━━━━━━━━━\u001b[0m\u001b[37m\u001b[0m \u001b[1m26s\u001b[0m 113ms/step - accuracy: 0.1812 - loss: 1.7872 - val_accuracy: 0.1822 - val_loss: 1.7787\n",
      "Epoch 4/10\n",
      "\u001b[1m230/230\u001b[0m \u001b[32m━━━━━━━━━━━━━━━━━━━━\u001b[0m\u001b[37m\u001b[0m \u001b[1m26s\u001b[0m 113ms/step - accuracy: 0.1900 - loss: 1.7836 - val_accuracy: 0.1822 - val_loss: 1.7786\n",
      "Epoch 5/10\n",
      "\u001b[1m230/230\u001b[0m \u001b[32m━━━━━━━━━━━━━━━━━━━━\u001b[0m\u001b[37m\u001b[0m \u001b[1m26s\u001b[0m 112ms/step - accuracy: 0.1816 - loss: 1.7794 - val_accuracy: 0.1880 - val_loss: 1.7658\n",
      "Epoch 6/10\n",
      "\u001b[1m230/230\u001b[0m \u001b[32m━━━━━━━━━━━━━━━━━━━━\u001b[0m\u001b[37m\u001b[0m \u001b[1m29s\u001b[0m 124ms/step - accuracy: 0.1939 - loss: 1.7847 - val_accuracy: 0.1890 - val_loss: 1.7589\n",
      "Epoch 7/10\n",
      "\u001b[1m230/230\u001b[0m \u001b[32m━━━━━━━━━━━━━━━━━━━━\u001b[0m\u001b[37m\u001b[0m \u001b[1m33s\u001b[0m 144ms/step - accuracy: 0.1828 - loss: 1.7851 - val_accuracy: 0.1846 - val_loss: 1.7673\n",
      "Epoch 8/10\n",
      "\u001b[1m230/230\u001b[0m \u001b[32m━━━━━━━━━━━━━━━━━━━━\u001b[0m\u001b[37m\u001b[0m \u001b[1m26s\u001b[0m 112ms/step - accuracy: 0.1943 - loss: 1.7833 - val_accuracy: 0.1839 - val_loss: 1.7672\n",
      "Epoch 9/10\n",
      "\u001b[1m230/230\u001b[0m \u001b[32m━━━━━━━━━━━━━━━━━━━━\u001b[0m\u001b[37m\u001b[0m \u001b[1m25s\u001b[0m 110ms/step - accuracy: 0.1970 - loss: 1.7830 - val_accuracy: 0.1839 - val_loss: 1.7673\n",
      "Epoch 10/10\n",
      "\u001b[1m230/230\u001b[0m \u001b[32m━━━━━━━━━━━━━━━━━━━━\u001b[0m\u001b[37m\u001b[0m \u001b[1m26s\u001b[0m 111ms/step - accuracy: 0.1841 - loss: 1.7846 - val_accuracy: 0.1839 - val_loss: 1.7673\n"
     ]
    },
    {
     "data": {
      "text/plain": [
       "<keras.src.callbacks.history.History at 0x134473a33d0>"
      ]
     },
     "execution_count": 38,
     "metadata": {},
     "output_type": "execute_result"
    }
   ],
   "source": [
    "# LSTM = Long short-term memory\n",
    "import tensorflow as tf\n",
    "from tensorflow.keras.models import Sequential\n",
    "from tensorflow.keras.layers import LSTM, Conv1D, Dense, Flatten, Dropout, GlobalMaxPooling1D, TimeDistributed\n",
    "import os\n",
    "\n",
    "cnn_lstm_model = Sequential([\n",
    "    TimeDistributed(Conv1D(64, kernel_size=3, activation='relu'), input_shape=(xyz_train.shape[1], xyz_train.shape[2], 1)),\n",
    "    TimeDistributed(GlobalMaxPooling1D()),\n",
    "    TimeDistributed(Flatten()),\n",
    "    LSTM(64, return_sequences=True),\n",
    "    LSTM(32),\n",
    "    Dense(32, activation='relu'),\n",
    "    Dropout(0.5),\n",
    "    Dense(6, activation='softmax')\n",
    "])\n",
    "cnn_lstm_model.compile(loss='sparse_categorical_crossentropy', optimizer='adam', metrics=['accuracy'])\n",
    "cnn_lstm_model.fit(xyz_train, activity_train, epochs=10, batch_size=32, validation_data=(xyz_test, activity_test))\n"
   ]
  }
 ],
 "metadata": {
  "kernelspec": {
   "display_name": "Python 3",
   "language": "python",
   "name": "python3"
  },
  "language_info": {
   "codemirror_mode": {
    "name": "ipython",
    "version": 3
   },
   "file_extension": ".py",
   "mimetype": "text/x-python",
   "name": "python",
   "nbconvert_exporter": "python",
   "pygments_lexer": "ipython3",
   "version": "3.11.4"
  }
 },
 "nbformat": 4,
 "nbformat_minor": 2
}
